{
 "cells": [
  {
   "cell_type": "code",
   "execution_count": 1,
   "metadata": {},
   "outputs": [],
   "source": [
    "import matplotlib.pyplot as plt\n",
    "import numpy as np"
   ]
  },
  {
   "cell_type": "code",
   "execution_count": 2,
   "metadata": {},
   "outputs": [],
   "source": [
    "d = 1.66*10**-3\n",
    "n = 1.4\n",
    "lamda = 632.8*10**-9"
   ]
  },
  {
   "cell_type": "code",
   "execution_count": 3,
   "metadata": {},
   "outputs": [],
   "source": [
    "N_data = [5.0, 5.0, 8.0, 5.0, 13.0, 8.0, 13.0, 19.0, 20.0, 22.0, 22.0, 23.0, 26.0, 36.0, 18.0, 6.0, 3.0]\n",
    "Invalshoek = [6.0, 6.0, 7.0, 6.0, 9.0, 7.0, 9.0, 11.0, 12.0, 12.0, 11.0, 12.0, 13.0, 17.0, 11.0, 7.0, 4.0]"
   ]
  },
  {
   "cell_type": "code",
   "execution_count": 4,
   "metadata": {
    "tags": []
   },
   "outputs": [],
   "source": [
    "#Invalshoek.append(float(input()))\n",
    "#N_data.append(float(input()))"
   ]
  },
  {
   "cell_type": "code",
   "execution_count": 5,
   "metadata": {},
   "outputs": [],
   "source": [
    "import matplotlib.pyplot as plt"
   ]
  },
  {
   "cell_type": "code",
   "execution_count": 6,
   "metadata": {},
   "outputs": [
    {
     "data": {
      "text/plain": [
       "Text(0.5, 1.0, 'prut')"
      ]
     },
     "execution_count": 6,
     "metadata": {},
     "output_type": "execute_result"
    },
    {
     "data": {
      "image/png": "[encoded data removed]",
      "text/plain": [
       "<Figure size 432x288 with 1 Axes>"
      ]
     },
     "metadata": {
      "needs_background": "light"
     },
     "output_type": "display_data"
    }
   ],
   "source": [
    "plt.scatter(Invalshoek,N_data)\n",
    "plt.grid()\n",
    "plt.xlabel('Invals hoek')\n",
    "plt.ylabel('Aantal extra fases')\n",
    "plt.title(\"prut\")"
   ]
  },
  {
   "cell_type": "code",
   "execution_count": 7,
   "metadata": {},
   "outputs": [],
   "source": [
    "I = np.linspace(0,20,21)"
   ]
  },
  {
   "cell_type": "code",
   "execution_count": 8,
   "metadata": {},
   "outputs": [],
   "source": [
    "i = np.pi/180* I\n",
    "#N = 2*d/lamda*((n/np.cos(np.sin(i)/n))+np.tan(i)*np.sin(i)-np.tan(np.sin(i)/n)*np.sin(i)-(n-1)-(1/np.cos(i)))"
   ]
  },
  {
   "cell_type": "code",
   "execution_count": 9,
   "metadata": {
    "tags": []
   },
   "outputs": [
    {
     "name": "stdout",
     "output_type": "stream",
     "text": [
      "[ 0.  1.  2.  3.  4.  5.  6.  7.  8.  9. 10. 11. 12. 13. 14. 15. 16. 17.\n",
      " 18. 19. 20.]\n"
     ]
    }
   ],
   "source": [
    "print(I)"
   ]
  },
  {
   "cell_type": "code",
   "execution_count": 25,
   "metadata": {},
   "outputs": [
    {
     "name": "stdout",
     "output_type": "stream",
     "text": [
      "[6.0, 6.0, 7.0, 6.0, 9.0, 7.0, 9.0, 11.0, 12.0, 12.0, 11.0, 12.0, 13.0, 17.0, 11.0, 7.0, 4.0]\n"
     ]
    }
   ],
   "source": [
    "print(Invalshoek)"
   ]
  },
  {
   "cell_type": "code",
   "execution_count": 39,
   "metadata": {},
   "outputs": [],
   "source": [
    "def FoutInTrendlijnBrekenen(N):    \n",
    "    teller=0\n",
    "    fout = []\n",
    "    for data in Invalshoek:\n",
    "        if data in I:\n",
    "            index = Invalshoek.index(data)\n",
    "            fout.append((N_data[teller] - N[index])**2)\n",
    "            teller+=1\n",
    "    totaal_fout =  sum(fout)\n",
    "    return totaal_fout"
   ]
  },
  {
   "cell_type": "code",
   "execution_count": 40,
   "metadata": {},
   "outputs": [],
   "source": [
    "n_lijst = np.linspace(1,2,5000)\n",
    "totalen_fouten = []\n",
    "for n in n_lijst:\n",
    "    N = 2*d/lamda*((n/np.cos(np.sin(i)/n))+np.tan(i)*np.sin(i)-np.tan(np.sin(i)/n)*np.sin(i)-(n-1)-(1/np.cos(i)))\n",
    "    totalen_fouten.append(FoutInTrendlijnBrekenen(N))"
   ]
  },
  {
   "cell_type": "code",
   "execution_count": 41,
   "metadata": {},
   "outputs": [],
   "source": [
    "min_fout =  min(totalen_fouten)\n",
    "beste_n = n_lijst[totalen_fouten.index(min_fout)]"
   ]
  },
  {
   "cell_type": "code",
   "execution_count": 44,
   "metadata": {},
   "outputs": [
    {
     "name": "stdout",
     "output_type": "stream",
     "text": [
      "1.197239447889578\n"
     ]
    },
    {
     "data": {
      "image/png": "[encoded data removed]",
      "text/plain": [
       "<Figure size 432x288 with 1 Axes>"
      ]
     },
     "metadata": {
      "needs_background": "light"
     },
     "output_type": "display_data"
    }
   ],
   "source": [
    "n = beste_n\n",
    "N = 2*d/lamda*((n/np.cos(np.sin(i)/n))+np.tan(i)*np.sin(i)-np.tan(np.sin(i)/n)*np.sin(i)-(n-1)-(1/np.cos(i)))\n",
    "plt.plot(I,N)\n",
    "plt.scatter(Invalshoek,N_data)\n",
    "plt.plot()\n",
    "print(beste_n)"
   ]
  },
  {
   "cell_type": "code",
   "execution_count": 58,
   "metadata": {},
   "outputs": [],
   "source": [
    "r = 0.2"
   ]
  },
  {
   "cell_type": "code",
   "execution_count": 59,
   "metadata": {},
   "outputs": [
    {
     "name": "stdout",
     "output_type": "stream",
     "text": [
      "-0.008000000000000035\n"
     ]
    }
   ],
   "source": [
    "print(-16*r**3+6/10*r)"
   ]
  },
  {
   "cell_type": "code",
   "execution_count": null,
   "metadata": {},
   "outputs": [],
   "source": []
  }
 ],
 "metadata": {
  "kernelspec": {
   "display_name": "Python 3",
   "language": "python",
   "name": "python3"
  },
  "language_info": {
   "codemirror_mode": {
    "name": "ipython",
    "version": 3
   },
   "file_extension": ".py",
   "mimetype": "text/x-python",
   "name": "python",
   "nbconvert_exporter": "python",
   "pygments_lexer": "ipython3",
   "version": "3.8.8"
  }
 },
 "nbformat": 4,
 "nbformat_minor": 4
}
